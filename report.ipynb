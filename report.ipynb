{
 "cells": [
  {
   "cell_type": "markdown",
   "metadata": {},
   "source": [
    "# Spooky Author Prediction \n",
    "(https://www.kaggle.com/c/spooky-author-identification/data)\n",
    "\n",
    "Authors: `Héctor Laria Mantecón (662134)`, `Aditya Kaushik (662862)`, `Maximilian Andreas Peter Proll (662529)`\n",
    "\n",
    "Repo: https://github.com/akskuchi/nlp-mini-project/"
   ]
  },
  {
   "cell_type": "markdown",
   "metadata": {},
   "source": [
    "_____________________________________\n",
    "### 1. Data and Problem\n",
    "\n",
    "- **Dataset description**:\n",
    "\n",
    "The dataset contains text from works of fiction written by spooky authors of the public domain: `Edgar Allan Poe`, `HP Lovecraft` and `Mary Shelley`\n",
    "\n",
    "- **Problem statement**:\n",
    "\n",
    "Given the training dataset, objective is to design a model that accurately predicts the author of the sentences for the validation dataset unused during training"
   ]
  },
  {
   "cell_type": "markdown",
   "metadata": {},
   "source": [
    "________________________________________\n",
    "### 2. Exploratory Data Analysis"
   ]
  },
  {
   "cell_type": "markdown",
   "metadata": {},
   "source": [
    "**a) Load and check train data**"
   ]
  },
  {
   "cell_type": "markdown",
   "metadata": {},
   "source": [
    "![title](data_head.png)"
   ]
  },
  {
   "cell_type": "markdown",
   "metadata": {},
   "source": [
    "**b) Count author frequencies (category frequency / influence) in the dataset**"
   ]
  },
  {
   "cell_type": "code",
   "execution_count": 3,
   "metadata": {},
   "outputs": [
    {
     "data": {
      "text/plain": [
       "<matplotlib.axes._subplots.AxesSubplot at 0x7fd1e3b7eeb8>"
      ]
     },
     "execution_count": 3,
     "metadata": {},
     "output_type": "execute_result"
    },
    {
     "data": {
      "image/png": "[encoded data removed]",
      "text/plain": [
       "<Figure size 432x288 with 1 Axes>"
      ]
     },
     "metadata": {},
     "output_type": "display_data"
    }
   ],
   "source": [
    "sns.countplot('author', data = train_data, palette=\"Set3\")"
   ]
  },
  {
   "cell_type": "markdown",
   "metadata": {},
   "source": [
    "As it does not make sense to do any further exploratory data analysis without pre-processing, we decided to move to `step-3` and revist `step-2` later."
   ]
  },
  {
   "cell_type": "markdown",
   "metadata": {},
   "source": [
    "**c) Zip's Law (uses `train_features`)**: Zipf's law states that given some corpus of natural language utterances, the frequency of any word is inversely proportional to its rank in the frequency table - [zipf-law](http://www.geoffkirby.co.uk/ZlPFSLAW.pdf)"
   ]
  },
  {
   "cell_type": "markdown",
   "metadata": {},
   "source": [
    "![zipf](zipf.png)"
   ]
  },
  {
   "cell_type": "markdown",
   "metadata": {},
   "source": [
    "From the above plot we inferred that for the dataset in context, the occurance of the uncommon words dominates the overall corpus. This could possibly be because of the spooky style literature"
   ]
  },
  {
   "cell_type": "markdown",
   "metadata": {},
   "source": [
    "_We used 'pandas' for retrieving the word frequencies and ranking them and eventually fed this data to polyfit function ('matplotlib') that fits a line to the data_\n",
    "\n",
    "________________________________"
   ]
  },
  {
   "cell_type": "markdown",
   "metadata": {},
   "source": [
    "### 3. Data Preprocessing\n",
    "\n",
    "We have used the **pre-processing techniques** used throughout the course of the study group\n",
    "\n",
    "- tokenize sentences\n",
    "- remove stopwords\n",
    "- remove numbers\n",
    "- convert to lowercase\n",
    "- lemmatizing (instead of `stemming`, as we had enough resources to cope with)"
   ]
  },
  {
   "cell_type": "markdown",
   "metadata": {},
   "source": [
    "**Vectorizing using tf-idf vectorizer**: We scored the words using tf-idf instead of simple count-vectorizing, to take into consideration importance of tokens that relate the sentence to its author at the core"
   ]
  },
  {
   "cell_type": "markdown",
   "metadata": {},
   "source": [
    "**Splitting the data into train and validation sets**: Because we did not have any explicit test data from the `Kaggle` competition dataset, we decided to split the training data into $90\\%$ training and $10\\%$ validation sets"
   ]
  },
  {
   "cell_type": "markdown",
   "metadata": {},
   "source": [
    "_For the purpose of data preprocessing, we used the following libraries:_\n",
    "- _NLTK_\n",
    "- _SKLEARN_\n",
    "\n",
    "______________________________"
   ]
  },
  {
   "cell_type": "markdown",
   "metadata": {},
   "source": [
    "### Approaches\n",
    "\n",
    "**a) Motivation**: Though our objective was essentially text classification, we discussed to experiment a bit with the representation/format of the dataset before trying out various classification methods\n",
    "\n",
    "**b) Methods**:\n",
    "\n",
    "* Logistic Regression (with tf-idf vectors): It was a convenient goto method for our problem at hand as it had support for multi-class classification (`one-vs-rest`, `one-vs-one`)\n",
    "\n",
    "* Naive-Bayes (with tf-idf vectors): Similar motivation as logistic regression and the fact that it is computationally less expensive\n",
    "\n",
    "* Deep Neural Network (using bag-of-words): A simple two fully connected non-linear layers (`relu` activations) and an eventual `softmax` for the output layer\n",
    "\n",
    "* Logistic Regression (with sent2vec): Because tf-idf was failing to capture the subtleties between the words of the sentences of different classes, we decided to try out sentence embeddings - [sent2vec](https://github.com/epfml/sent2vec). We used the `torontobooks_bigrams.bin` pre-trained embeddings model\n",
    "\n",
    "* Support Vector Machines (with sent2vec): To try out performance of other classifiers on the same set of embeddings\n",
    "\n",
    "* Deep Recurrent Neural Network (using bag-of-words): The vanilla classifiers were not yielding desired resutls and that formed the motivation for using sequence models that can make use of previous-state to model relations between the sentences\n",
    "\n",
    "* Deep Recurrent Neural Network (using `GloVe` embeddings, batch training): Because the plain RNN above-mentioned was computationally expensive, we wanted to reduce the dimensionality of the sentence representations. We made use of a simple LSTM layer along with two dense (fully connected) layers with respective empirical dropout values. We used pre-trained `GloVe` word-embeddings trained on book-corpus as it falls in the realm of our dataset context\n",
    "\n",
    "* Convolutional Neural Network (using `GloVe` embeddings, batch training): We stumbled upon this intriguing way of classification while reading about RNNs and evaluated its performance on the dataset - [post](https://blog.keras.io/using-pre-trained-word-embeddings-in-a-keras-model.html), [publication](http://www.aclweb.org/anthology/D14-1181). Though we did not analyze on why and how things worked on this architecture, we thought it would be fair to atleast report the results"
   ]
  },
  {
   "cell_type": "markdown",
   "metadata": {},
   "source": [
    "______________________________________\n",
    "### 5. Experimental Results\n",
    "\n",
    "All the source code and respective labelling can be found in the following notebooks:\n",
    "\n",
    "- `nlp-project.ipynb`\n",
    "- `project-nlp.ipynb`\n",
    "- `CNN_pytorch.ipynb`\n",
    "\n",
    "Metrics used:\n",
    "\n",
    "- Log-Loss / Categorical cross-entropy was used in the competition\n",
    "\n",
    "\n",
    "|                   approach                   | loss (mean) | accuracy (%)  |\n",
    "| :------------------------------------------: | :---------: | :-----------: |\n",
    "| CNN (using GloVe embeddings, batch training) |    0.80     |     73.60     |\n",
    "| RNN (using GloVe embeddings, batch training) |    0.49     |     **81.56** |\n",
    "|               RNN (using BOWs)               |    0.62     |      N/A      |\n",
    "|             SVM (with sent2vec)              |    0.70     |      N/A      |\n",
    "|     Logistic Regression (with sent2vec)      |    0.78     |      N/A      |\n",
    "|         Feed Forward NN (using BOWs)         |    0.47     |      N/A      |\n",
    "|      Naive-Bayes (with tf-idf vectors)       |    0.59     |      N/A      |\n",
    "|  Logistic Regression (with tf-idf vectors)   |    0.61     |      N/A      ||        "
   ]
  },
  {
   "cell_type": "markdown",
   "metadata": {},
   "source": [
    "___________________________________________________\n",
    "\n",
    "### 6. Conclusions\n",
    "\n",
    "From the results above it is evident that the RNNs outperformed other methods, both in terms of accuracy and consistency. We tried working towards grid-searching and tuning the parameter space of the network for further improving it. We figured that implementation was less of a husstle by using `keras` instead of `PyTorch` for RNNs.\n",
    "\n",
    "The better performance of this kind of model can be explained as 1) `GloVe` embeddings retain and project overall relations of the whole sentence, while `BOW` or `word2vec` cannot really grasp them. This makes them a good input suite for learning networks, and 2) nature of the RNN, as explained in section 4.\n",
    "\n",
    "We were able to use many concepts pursued as a part of the study group and also experiment and learn a few more. This project has motivated us to get involved with and tackle further challenges related to text-summarization and classification problems. We had access to resources from `panikki` (_QP5000 GPU_) and was ample for the load of our dataset."
   ]
  }
 ],
 "metadata": {
  "kernelspec": {
   "display_name": "Python 3",
   "language": "python",
   "name": "python3"
  },
  "language_info": {
   "codemirror_mode": {
    "name": "ipython",
    "version": 3
   },
   "file_extension": ".py",
   "mimetype": "text/x-python",
   "name": "python",
   "nbconvert_exporter": "python",
   "pygments_lexer": "ipython3",
   "version": "3.6.4"
  }
 },
 "nbformat": 4,
 "nbformat_minor": 2
}
