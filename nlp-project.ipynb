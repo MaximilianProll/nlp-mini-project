{
 "cells": [
  {
   "cell_type": "markdown",
   "metadata": {},
   "source": [
    "# Spooky Author Prediction \n",
    "(https://www.kaggle.com/c/spooky-author-identification/data) **to be removed...**"
   ]
  },
  {
   "cell_type": "markdown",
   "metadata": {},
   "source": [
    "### 1. Data and Problem\n",
    "\n",
    "- **Dataset description**:\n",
    "\n",
    "The dataset contains text from works of fiction written by spooky authors of the public domain: `Edgar Allan Poe`, `HP Lovecraft` and `Mary Shelley`.\n",
    "\n",
    "- **Problem statement**:\n",
    "\n",
    "Given the training dataset, objective is to design a model that accurately predicts the author of the sentences in the test dataset."
   ]
  },
  {
   "cell_type": "code",
   "execution_count": 1,
   "metadata": {},
   "outputs": [
    {
     "name": "stdout",
     "output_type": "stream",
     "text": [
      "number of CUDA devices:  1\n",
      "Quadro P5000\n",
      "cuda:0\n"
     ]
    }
   ],
   "source": [
    "# basic imports\n",
    "import re\n",
    "import string\n",
    "import seaborn as sns\n",
    "from scipy.sparse import coo_matrix\n",
    "\n",
    "# nlp imports\n",
    "import nltk\n",
    "from nltk.stem import WordNetLemmatizer\n",
    "import pandas as pd\n",
    "\n",
    "# basic classifiers\n",
    "from sklearn.feature_extraction.text import TfidfVectorizer\n",
    "from sklearn import model_selection, linear_model, metrics, naive_bayes\n",
    "\n",
    "# goodsie classifiers\n",
    "import torch\n",
    "import torch.nn as nn\n",
    "from torch.autograd import Variable\n",
    "\n",
    "# specify torch to use gpu\n",
    "print('number of CUDA devices: ',torch.cuda.device_count())\n",
    "print(torch.cuda.get_device_name(0))\n",
    "device = torch.device(\"cuda:0\" if torch.cuda.is_available() else \"cpu\")\n",
    "print(device)"
   ]
  },
  {
   "cell_type": "markdown",
   "metadata": {},
   "source": [
    "### 2. Exploratory Data Analysis"
   ]
  },
  {
   "cell_type": "markdown",
   "metadata": {},
   "source": [
    "**a) Load and check train data**"
   ]
  },
  {
   "cell_type": "code",
   "execution_count": 2,
   "metadata": {},
   "outputs": [
    {
     "name": "stdout",
     "output_type": "stream",
     "text": [
      "(19579, 3) train data shape\n"
     ]
    },
    {
     "data": {
      "text/html": [
       "<div>\n",
       "<style scoped>\n",
       "    .dataframe tbody tr th:only-of-type {\n",
       "        vertical-align: middle;\n",
       "    }\n",
       "\n",
       "    .dataframe tbody tr th {\n",
       "        vertical-align: top;\n",
       "    }\n",
       "\n",
       "    .dataframe thead th {\n",
       "        text-align: right;\n",
       "    }\n",
       "</style>\n",
       "<table border=\"1\" class=\"dataframe\">\n",
       "  <thead>\n",
       "    <tr style=\"text-align: right;\">\n",
       "      <th></th>\n",
       "      <th>id</th>\n",
       "      <th>text</th>\n",
       "      <th>author</th>\n",
       "    </tr>\n",
       "  </thead>\n",
       "  <tbody>\n",
       "    <tr>\n",
       "      <th>0</th>\n",
       "      <td>id26305</td>\n",
       "      <td>This process, however, afforded me no means of...</td>\n",
       "      <td>EAP</td>\n",
       "    </tr>\n",
       "    <tr>\n",
       "      <th>1</th>\n",
       "      <td>id17569</td>\n",
       "      <td>It never once occurred to me that the fumbling...</td>\n",
       "      <td>HPL</td>\n",
       "    </tr>\n",
       "    <tr>\n",
       "      <th>2</th>\n",
       "      <td>id11008</td>\n",
       "      <td>In his left hand was a gold snuff box, from wh...</td>\n",
       "      <td>EAP</td>\n",
       "    </tr>\n",
       "    <tr>\n",
       "      <th>3</th>\n",
       "      <td>id27763</td>\n",
       "      <td>How lovely is spring As we looked from Windsor...</td>\n",
       "      <td>MWS</td>\n",
       "    </tr>\n",
       "    <tr>\n",
       "      <th>4</th>\n",
       "      <td>id12958</td>\n",
       "      <td>Finding nothing else, not even gold, the Super...</td>\n",
       "      <td>HPL</td>\n",
       "    </tr>\n",
       "  </tbody>\n",
       "</table>\n",
       "</div>"
      ],
      "text/plain": [
       "        id                                               text author\n",
       "0  id26305  This process, however, afforded me no means of...    EAP\n",
       "1  id17569  It never once occurred to me that the fumbling...    HPL\n",
       "2  id11008  In his left hand was a gold snuff box, from wh...    EAP\n",
       "3  id27763  How lovely is spring As we looked from Windsor...    MWS\n",
       "4  id12958  Finding nothing else, not even gold, the Super...    HPL"
      ]
     },
     "execution_count": 2,
     "metadata": {},
     "output_type": "execute_result"
    }
   ],
   "source": [
    "train_data = pd.read_csv(\"train.csv\")\n",
    "print(f'{train_data.shape} train data shape')\n",
    "train_data.head(5)"
   ]
  },
  {
   "cell_type": "markdown",
   "metadata": {},
   "source": [
    "**b) Count author frequencies in the dataset**"
   ]
  },
  {
   "cell_type": "code",
   "execution_count": 3,
   "metadata": {},
   "outputs": [
    {
     "data": {
      "text/plain": [
       "<matplotlib.axes._subplots.AxesSubplot at 0x7fd1e3b7eeb8>"
      ]
     },
     "execution_count": 3,
     "metadata": {},
     "output_type": "execute_result"
    },
    {
     "data": {
      "image/png": "[encoded data removed]",
      "text/plain": [
       "<Figure size 432x288 with 1 Axes>"
      ]
     },
     "metadata": {},
     "output_type": "display_data"
    }
   ],
   "source": [
    "sns.countplot('author', data = train_data, palette=\"Set3\")"
   ]
  },
  {
   "cell_type": "markdown",
   "metadata": {},
   "source": [
    "As it does not make sense to do any further exploratory data analysis without pre-processing, we decided to move to `step-3` and revist `step-2` later."
   ]
  },
  {
   "cell_type": "markdown",
   "metadata": {},
   "source": [
    "### 3. Data Preprocessing\n",
    "\n",
    "We have used the pre-processing techniques used throughout the course of the study group\n",
    "\n",
    "- tokenize sentences\n",
    "- remove stopwords\n",
    "- remove numbers\n",
    "- convert to lowercase\n",
    "- lemmatizing (instead of `stemming`, as we had enough resources to cope with)"
   ]
  },
  {
   "cell_type": "code",
   "execution_count": 4,
   "metadata": {},
   "outputs": [],
   "source": [
    "tokenizer = nltk.RegexpTokenizer(r'\\w+')\n",
    "stopwords = nltk.corpus.stopwords.words('english')\n",
    "train_features = []\n",
    "train_labels = []"
   ]
  },
  {
   "cell_type": "code",
   "execution_count": 5,
   "metadata": {},
   "outputs": [
    {
     "name": "stdout",
     "output_type": "stream",
     "text": [
      "extracted 19579 training data features and labels\n"
     ]
    }
   ],
   "source": [
    "for sentence_index in range(train_data.shape[0]):\n",
    "    sentence = train_data.text[sentence_index]\n",
    "    author = train_data.author[sentence_index]\n",
    "    \n",
    "    # tokenize\n",
    "    sentence_words = tokenizer.tokenize(sentence)\n",
    "    \n",
    "    # remove stopwords, covert to lowercase\n",
    "    sentence_words = [word.lower() for word in sentence_words if word.lower() not in stopwords]\n",
    "    \n",
    "    # remove numbers\n",
    "    words = [re.sub('[0-9]+', '', token) for token in sentence_words]\n",
    "    \n",
    "    # lemmatizing\n",
    "    lemmatizer = WordNetLemmatizer()\n",
    "    sentence_words = [lemmatizer.lemmatize(word) for word in sentence_words]\n",
    "    \n",
    "    train_features.append(' '.join(sentence_words))\n",
    "    train_labels.append(author)\n",
    "    \n",
    "print(f'extracted {len(train_features)} training data features and labels')"
   ]
  },
  {
   "cell_type": "markdown",
   "metadata": {},
   "source": [
    "**Vectorizing using tf-idf vectorizer**:"
   ]
  },
  {
   "cell_type": "code",
   "execution_count": 6,
   "metadata": {},
   "outputs": [],
   "source": [
    "tfidf_vectorizer = TfidfVectorizer()\n",
    "train_vectors = tfidf_vectorizer.fit_transform(train_features)"
   ]
  },
  {
   "cell_type": "markdown",
   "metadata": {},
   "source": [
    "**Splitting the data into train and validation sets**:"
   ]
  },
  {
   "cell_type": "code",
   "execution_count": 7,
   "metadata": {},
   "outputs": [
    {
     "name": "stdout",
     "output_type": "stream",
     "text": [
      "training dataset size: (15663, 22016)\n",
      "validation dataset size: (3916, 22016)\n"
     ]
    }
   ],
   "source": [
    "X_train, X_valid, y_train, y_valid = model_selection.train_test_split(train_vectors, train_labels, test_size=0.2, shuffle=True)\n",
    "print(f'training dataset size: {X_train.shape}')\n",
    "print(f'validation dataset size: {X_valid.shape}')"
   ]
  },
  {
   "cell_type": "markdown",
   "metadata": {},
   "source": [
    "### 4. Approaches\n",
    "\n",
    "**a) Motivation**: Though our objective was essentially text classification, we discussed to experiment a bit with the representation/format of the dataset before trying out various classification methods\n",
    "\n",
    "**b) Methods**:\n",
    "\n",
    "- Logistic Regression (using tf-idf sentence vectors)"
   ]
  },
  {
   "cell_type": "code",
   "execution_count": 8,
   "metadata": {},
   "outputs": [
    {
     "name": "stdout",
     "output_type": "stream",
     "text": [
      "logistic regression logloss: 0.6125\n"
     ]
    }
   ],
   "source": [
    "classifier = linear_model.LogisticRegression(C = 1.0)\n",
    "classifier.fit(X_train, y_train)\n",
    "predictions = classifier.predict_proba(X_valid)\n",
    "\n",
    "print(f'logistic regression logloss: {metrics.log_loss(y_valid, predictions):0.4f}')"
   ]
  },
  {
   "cell_type": "markdown",
   "metadata": {},
   "source": [
    "- Naive Bayes (using tf-idf sentence vectors)"
   ]
  },
  {
   "cell_type": "code",
   "execution_count": 9,
   "metadata": {},
   "outputs": [
    {
     "name": "stdout",
     "output_type": "stream",
     "text": [
      "naive bayes logloss: 0.5926\n"
     ]
    }
   ],
   "source": [
    "classifier = naive_bayes.MultinomialNB()\n",
    "classifier.fit(X_train, y_train)\n",
    "predictions = classifier.predict_proba(X_valid)\n",
    "\n",
    "print(f'naive bayes logloss: {metrics.log_loss(y_valid, predictions):0.4f}')"
   ]
  },
  {
   "cell_type": "markdown",
   "metadata": {},
   "source": [
    "- Deep Neural Network (using tf-idf sentence vectors)"
   ]
  },
  {
   "cell_type": "code",
   "execution_count": 10,
   "metadata": {},
   "outputs": [],
   "source": [
    "class DeepNN(nn.Module):\n",
    "\n",
    "    def __init__(self, input_size, hidden_size, output_size):\n",
    "        super(DeepNN, self).__init__()\n",
    "        self.i2h = nn.Linear(input_size, hidden_size)\n",
    "        self.h2o = nn.Linear(hidden_size, output_size)\n",
    "        self.softmax = nn.LogSoftmax(dim = 1)\n",
    "\n",
    "    def forward(self, input):\n",
    "        hidden = self.i2h(input)\n",
    "        output = self.h2o(hidden)\n",
    "        # softmax, because we are dealing with more than 2 spooky authors\n",
    "        output = self.softmax(output)\n",
    "        return output"
   ]
  },
  {
   "cell_type": "code",
   "execution_count": 11,
   "metadata": {},
   "outputs": [],
   "source": [
    "def prepare_data():\n",
    "    all_authors = list()\n",
    "    all_words = list()\n",
    "    \n",
    "    def collect_unique():\n",
    "        for index in range(len(train_features)):\n",
    "            author = train_labels[index]\n",
    "            sentence = train_features[index]\n",
    "            if author not in all_authors:\n",
    "                all_authors.append(author)\n",
    "            \n",
    "            for word in sentence.split(' '):\n",
    "                if word not in all_words:\n",
    "                    all_words.append(word)\n",
    "        \n",
    "    collect_unique()\n",
    "    input_size = len(all_words)\n",
    "    output_size = len(all_authors)\n",
    "    return input_size, output_size, all_words, all_authors"
   ]
  },
  {
   "cell_type": "code",
   "execution_count": 12,
   "metadata": {},
   "outputs": [],
   "source": [
    "def sentence_2_tensor(sentence):\n",
    "    tensor = torch.zeros(1, input_size)\n",
    "    for word in sentence.split(' '):\n",
    "        if word not in all_words:\n",
    "            continue\n",
    "        tensor[0][all_words.index(word)] = 1\n",
    "\n",
    "    return tensor"
   ]
  },
  {
   "cell_type": "code",
   "execution_count": 13,
   "metadata": {},
   "outputs": [],
   "source": [
    "def get_painful_tensors(author, sentence):\n",
    "    author_tensor = Variable(torch.LongTensor([all_authors.index(author)]))\n",
    "    sentence_tensor = Variable(sentence_2_tensor(sentence))\n",
    "    author_tensor = author_tensor.cuda()\n",
    "    sentence_tensor = sentence_tensor.cuda()\n",
    "    return author_tensor, sentence_tensor"
   ]
  },
  {
   "cell_type": "code",
   "execution_count": 14,
   "metadata": {},
   "outputs": [],
   "source": [
    "def black_hole(output, input, deep_nn):\n",
    "    deep_nn.zero_grad()\n",
    "    \n",
    "    output_p = deep_nn(input)\n",
    "    loss = criterion(output_p, output)\n",
    "    loss.backward()\n",
    "\n",
    "    for param in deep_nn.parameters():\n",
    "        param.data.add_(-learning_rate, param.grad.data)\n",
    "\n",
    "    return output, loss.data.item()"
   ]
  },
  {
   "cell_type": "code",
   "execution_count": 15,
   "metadata": {},
   "outputs": [],
   "source": [
    "def train(deep_nn, n_epochs = 1):\n",
    "    current_loss = 0\n",
    "    for iter in range(1, n_epochs + 1):\n",
    "        for index in range(len(train_features)):\n",
    "            author = train_labels[index]\n",
    "            sentence = train_features[index]\n",
    "            author_tensor, sentence_tensor = get_painful_tensors(author, sentence)\n",
    "            output, loss = black_hole(author_tensor, sentence_tensor, deep_nn)\n",
    "            current_loss += loss\n",
    "            if index % 500 == 0:\n",
    "                print('current loss = ',round(current_loss, 2))\n",
    "                print(index, ' of ', len(train_features))\n",
    "    \n",
    "    print('current loss = ',round(current_loss, 2))"
   ]
  },
  {
   "cell_type": "code",
   "execution_count": 16,
   "metadata": {},
   "outputs": [],
   "source": [
    "# finally! start the computational graph\n",
    "input_size, output_size, all_words, all_authors = prepare_data()\n",
    "learning_rate = 0.005\n",
    "hidden_size = input_size\n",
    "deep_nn = DeepNN(input_size, hidden_size, output_size)\n",
    "deep_nn.cuda(device=device)\n",
    "criterion = nn.NLLLoss()"
   ]
  },
  {
   "cell_type": "code",
   "execution_count": 17,
   "metadata": {},
   "outputs": [
    {
     "name": "stdout",
     "output_type": "stream",
     "text": [
      "current loss =  1.1\n",
      "0  of  19579\n",
      "current loss =  547.71\n",
      "500  of  19579\n",
      "current loss =  1078.1\n",
      "1000  of  19579\n",
      "current loss =  1612.18\n",
      "1500  of  19579\n",
      "current loss =  2133.54\n",
      "2000  of  19579\n",
      "current loss =  2646.26\n",
      "2500  of  19579\n",
      "current loss =  3156.76\n",
      "3000  of  19579\n",
      "current loss =  3661.56\n",
      "3500  of  19579\n",
      "current loss =  4158.42\n",
      "4000  of  19579\n",
      "current loss =  4639.02\n",
      "4500  of  19579\n",
      "current loss =  5104.89\n",
      "5000  of  19579\n",
      "current loss =  5558.74\n",
      "5500  of  19579\n",
      "current loss =  6001.95\n",
      "6000  of  19579\n",
      "current loss =  6432.49\n",
      "6500  of  19579\n",
      "current loss =  6861.91\n",
      "7000  of  19579\n",
      "current loss =  7280.71\n",
      "7500  of  19579\n",
      "current loss =  7675.82\n",
      "8000  of  19579\n",
      "current loss =  8057.54\n",
      "8500  of  19579\n",
      "current loss =  8440.85\n",
      "9000  of  19579\n",
      "current loss =  8812.61\n",
      "9500  of  19579\n",
      "current loss =  9178.25\n",
      "10000  of  19579\n",
      "current loss =  9532.52\n",
      "10500  of  19579\n",
      "current loss =  9879.91\n",
      "11000  of  19579\n",
      "current loss =  10233.8\n",
      "11500  of  19579\n",
      "current loss =  10581.43\n",
      "12000  of  19579\n",
      "current loss =  10899.46\n",
      "12500  of  19579\n",
      "current loss =  11231.75\n",
      "13000  of  19579\n",
      "current loss =  11570.83\n",
      "13500  of  19579\n",
      "current loss =  11890.56\n",
      "14000  of  19579\n",
      "current loss =  12177.29\n",
      "14500  of  19579\n",
      "current loss =  12486.72\n",
      "15000  of  19579\n",
      "current loss =  12799.38\n",
      "15500  of  19579\n",
      "current loss =  13096.53\n",
      "16000  of  19579\n",
      "current loss =  13392.75\n",
      "16500  of  19579\n",
      "current loss =  13674.76\n",
      "17000  of  19579\n",
      "current loss =  13967.14\n",
      "17500  of  19579\n",
      "current loss =  14249.49\n",
      "18000  of  19579\n",
      "current loss =  14532.6\n",
      "18500  of  19579\n",
      "current loss =  14825.62\n",
      "19000  of  19579\n",
      "current loss =  15106.69\n",
      "19500  of  19579\n",
      "current loss =  15151.7\n"
     ]
    }
   ],
   "source": [
    "# train the model\n",
    "n_epochs = 1\n",
    "train(deep_nn, n_epochs)"
   ]
  },
  {
   "cell_type": "code",
   "execution_count": 18,
   "metadata": {},
   "outputs": [],
   "source": [
    "# save the trained model for future references\n",
    "torch.save(deep_nn.state_dict(), 'deep_nn_trained_model_' + str(n_epochs))"
   ]
  },
  {
   "cell_type": "markdown",
   "metadata": {},
   "source": [
    "- Logistic regression (using doc2vec)"
   ]
  },
  {
   "cell_type": "code",
   "execution_count": null,
   "metadata": {},
   "outputs": [],
   "source": []
  },
  {
   "cell_type": "markdown",
   "metadata": {},
   "source": [
    "### 5. Experimental Results\n",
    "\n",
    "|                      | logistic regression | naive bayes (multinomial) | deep neural network |\n",
    "| :------------------: | :-----------------: | :-----------------------: | :-----------------: |\n",
    "|       doc2vec        |                     |                           |                     |\n",
    "|        tf-idf        |                     |                           |                     |"
   ]
  },
  {
   "cell_type": "markdown",
   "metadata": {},
   "source": [
    "### 6. Conclusions"
   ]
  },
  {
   "cell_type": "code",
   "execution_count": null,
   "metadata": {},
   "outputs": [],
   "source": []
  }
 ],
 "metadata": {
  "kernelspec": {
   "display_name": "Python 3",
   "language": "python",
   "name": "python3"
  },
  "language_info": {
   "codemirror_mode": {
    "name": "ipython",
    "version": 3
   },
   "file_extension": ".py",
   "mimetype": "text/x-python",
   "name": "python",
   "nbconvert_exporter": "python",
   "pygments_lexer": "ipython3",
   "version": "3.6.5"
  }
 },
 "nbformat": 4,
 "nbformat_minor": 2
}
